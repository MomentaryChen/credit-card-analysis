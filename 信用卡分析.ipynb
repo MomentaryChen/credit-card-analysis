{
 "cells": [
  {
   "cell_type": "code",
   "execution_count": 1,
   "metadata": {
    "scrolled": true
   },
   "outputs": [
    {
     "data": {
      "text/html": [
       "<div>\n",
       "<style scoped>\n",
       "    .dataframe tbody tr th:only-of-type {\n",
       "        vertical-align: middle;\n",
       "    }\n",
       "\n",
       "    .dataframe tbody tr th {\n",
       "        vertical-align: top;\n",
       "    }\n",
       "\n",
       "    .dataframe thead th {\n",
       "        text-align: right;\n",
       "    }\n",
       "</style>\n",
       "<table border=\"1\" class=\"dataframe\">\n",
       "  <thead>\n",
       "    <tr style=\"text-align: right;\">\n",
       "      <th></th>\n",
       "      <th>年月</th>\n",
       "      <th>地區</th>\n",
       "      <th>性別</th>\n",
       "      <th>食品餐飲類未滿20[筆數]</th>\n",
       "      <th>食品餐飲類未滿20[金額，新台幣]</th>\n",
       "      <th>衣著飾品類未滿20[筆數]</th>\n",
       "      <th>衣著飾品類未滿20[金額，新台幣]</th>\n",
       "      <th>旅館住宿類未滿20[筆數]</th>\n",
       "      <th>旅館住宿類未滿20[金額，新台幣]</th>\n",
       "      <th>交通類未滿20[筆數]</th>\n",
       "      <th>...</th>\n",
       "      <th>旅館住宿類80[含]以上[筆數]</th>\n",
       "      <th>旅館住宿類80[含]以上[金額，新台幣]</th>\n",
       "      <th>交通類80[含]以上[筆數]</th>\n",
       "      <th>交通類80[含]以上[金額，新台幣]</th>\n",
       "      <th>文教康樂類80[含]以上[筆數]</th>\n",
       "      <th>文教康樂類80[含]以上[金額，新台幣]</th>\n",
       "      <th>百貨類80[含]以上[筆數]</th>\n",
       "      <th>百貨類80[含]以上[金額，新台幣]</th>\n",
       "      <th>其他類80[含]以上[筆數]</th>\n",
       "      <th>其他類80[含]以上[金額，新台幣]</th>\n",
       "    </tr>\n",
       "  </thead>\n",
       "  <tbody>\n",
       "    <tr>\n",
       "      <th>0</th>\n",
       "      <td>103年01月</td>\n",
       "      <td>台灣</td>\n",
       "      <td>男性</td>\n",
       "      <td>5057.0</td>\n",
       "      <td>14105627.0</td>\n",
       "      <td>1225.0</td>\n",
       "      <td>3372107.0</td>\n",
       "      <td>1399.0</td>\n",
       "      <td>15114120.0</td>\n",
       "      <td>9903.0</td>\n",
       "      <td>...</td>\n",
       "      <td>4714.0</td>\n",
       "      <td>34109771.0</td>\n",
       "      <td>16125.0</td>\n",
       "      <td>21028332.0</td>\n",
       "      <td>5033.0</td>\n",
       "      <td>41511716.0</td>\n",
       "      <td>6834.0</td>\n",
       "      <td>21411759.0</td>\n",
       "      <td>16380.0</td>\n",
       "      <td>93857542.0</td>\n",
       "    </tr>\n",
       "    <tr>\n",
       "      <th>1</th>\n",
       "      <td>103年02月</td>\n",
       "      <td>台灣</td>\n",
       "      <td>男性</td>\n",
       "      <td>4372.0</td>\n",
       "      <td>10158835.0</td>\n",
       "      <td>861.0</td>\n",
       "      <td>2514123.0</td>\n",
       "      <td>1135.0</td>\n",
       "      <td>10300405.0</td>\n",
       "      <td>8789.0</td>\n",
       "      <td>...</td>\n",
       "      <td>3598.0</td>\n",
       "      <td>25149045.0</td>\n",
       "      <td>14220.0</td>\n",
       "      <td>19381564.0</td>\n",
       "      <td>4999.0</td>\n",
       "      <td>44311600.0</td>\n",
       "      <td>5295.0</td>\n",
       "      <td>14967274.0</td>\n",
       "      <td>14405.0</td>\n",
       "      <td>77452395.0</td>\n",
       "    </tr>\n",
       "    <tr>\n",
       "      <th>2</th>\n",
       "      <td>103年03月</td>\n",
       "      <td>台灣</td>\n",
       "      <td>男性</td>\n",
       "      <td>4712.0</td>\n",
       "      <td>10547340.0</td>\n",
       "      <td>813.0</td>\n",
       "      <td>3127630.0</td>\n",
       "      <td>1152.0</td>\n",
       "      <td>11719796.0</td>\n",
       "      <td>11133.0</td>\n",
       "      <td>...</td>\n",
       "      <td>4356.0</td>\n",
       "      <td>36870973.0</td>\n",
       "      <td>16052.0</td>\n",
       "      <td>21954213.0</td>\n",
       "      <td>5537.0</td>\n",
       "      <td>49395055.0</td>\n",
       "      <td>6020.0</td>\n",
       "      <td>15798731.0</td>\n",
       "      <td>16646.0</td>\n",
       "      <td>91587516.0</td>\n",
       "    </tr>\n",
       "    <tr>\n",
       "      <th>3</th>\n",
       "      <td>103年04月</td>\n",
       "      <td>台灣</td>\n",
       "      <td>男性</td>\n",
       "      <td>4466.0</td>\n",
       "      <td>10100487.0</td>\n",
       "      <td>810.0</td>\n",
       "      <td>2813611.0</td>\n",
       "      <td>1113.0</td>\n",
       "      <td>16034766.0</td>\n",
       "      <td>10621.0</td>\n",
       "      <td>...</td>\n",
       "      <td>4121.0</td>\n",
       "      <td>33006077.0</td>\n",
       "      <td>15472.0</td>\n",
       "      <td>20865523.0</td>\n",
       "      <td>5486.0</td>\n",
       "      <td>56281138.0</td>\n",
       "      <td>5797.0</td>\n",
       "      <td>17047985.0</td>\n",
       "      <td>16427.0</td>\n",
       "      <td>94157889.0</td>\n",
       "    </tr>\n",
       "    <tr>\n",
       "      <th>4</th>\n",
       "      <td>103年05月</td>\n",
       "      <td>台灣</td>\n",
       "      <td>男性</td>\n",
       "      <td>4949.0</td>\n",
       "      <td>11152631.0</td>\n",
       "      <td>994.0</td>\n",
       "      <td>2552584.0</td>\n",
       "      <td>1404.0</td>\n",
       "      <td>17523971.0</td>\n",
       "      <td>11283.0</td>\n",
       "      <td>...</td>\n",
       "      <td>4299.0</td>\n",
       "      <td>29467321.0</td>\n",
       "      <td>16208.0</td>\n",
       "      <td>22042802.0</td>\n",
       "      <td>5387.0</td>\n",
       "      <td>61112240.0</td>\n",
       "      <td>6294.0</td>\n",
       "      <td>19279658.0</td>\n",
       "      <td>17415.0</td>\n",
       "      <td>192573303.0</td>\n",
       "    </tr>\n",
       "  </tbody>\n",
       "</table>\n",
       "<p>5 rows × 199 columns</p>\n",
       "</div>"
      ],
      "text/plain": [
       "        年月  地區  性別  食品餐飲類未滿20[筆數]  食品餐飲類未滿20[金額，新台幣]  衣著飾品類未滿20[筆數]  \\\n",
       "0  103年01月  台灣  男性         5057.0         14105627.0         1225.0   \n",
       "1  103年02月  台灣  男性         4372.0         10158835.0          861.0   \n",
       "2  103年03月  台灣  男性         4712.0         10547340.0          813.0   \n",
       "3  103年04月  台灣  男性         4466.0         10100487.0          810.0   \n",
       "4  103年05月  台灣  男性         4949.0         11152631.0          994.0   \n",
       "\n",
       "   衣著飾品類未滿20[金額，新台幣]  旅館住宿類未滿20[筆數]  旅館住宿類未滿20[金額，新台幣]  交通類未滿20[筆數]  \\\n",
       "0          3372107.0         1399.0         15114120.0       9903.0   \n",
       "1          2514123.0         1135.0         10300405.0       8789.0   \n",
       "2          3127630.0         1152.0         11719796.0      11133.0   \n",
       "3          2813611.0         1113.0         16034766.0      10621.0   \n",
       "4          2552584.0         1404.0         17523971.0      11283.0   \n",
       "\n",
       "          ...          旅館住宿類80[含]以上[筆數]  旅館住宿類80[含]以上[金額，新台幣]  交通類80[含]以上[筆數]  \\\n",
       "0         ...                    4714.0            34109771.0         16125.0   \n",
       "1         ...                    3598.0            25149045.0         14220.0   \n",
       "2         ...                    4356.0            36870973.0         16052.0   \n",
       "3         ...                    4121.0            33006077.0         15472.0   \n",
       "4         ...                    4299.0            29467321.0         16208.0   \n",
       "\n",
       "   交通類80[含]以上[金額，新台幣]  文教康樂類80[含]以上[筆數]  文教康樂類80[含]以上[金額，新台幣]  百貨類80[含]以上[筆數]  \\\n",
       "0          21028332.0            5033.0            41511716.0          6834.0   \n",
       "1          19381564.0            4999.0            44311600.0          5295.0   \n",
       "2          21954213.0            5537.0            49395055.0          6020.0   \n",
       "3          20865523.0            5486.0            56281138.0          5797.0   \n",
       "4          22042802.0            5387.0            61112240.0          6294.0   \n",
       "\n",
       "   百貨類80[含]以上[金額，新台幣]  其他類80[含]以上[筆數]  其他類80[含]以上[金額，新台幣]  \n",
       "0          21411759.0         16380.0          93857542.0  \n",
       "1          14967274.0         14405.0          77452395.0  \n",
       "2          15798731.0         16646.0          91587516.0  \n",
       "3          17047985.0         16427.0          94157889.0  \n",
       "4          19279658.0         17415.0         192573303.0  \n",
       "\n",
       "[5 rows x 199 columns]"
      ]
     },
     "execution_count": 1,
     "metadata": {},
     "output_type": "execute_result"
    }
   ],
   "source": [
    "import pandas as pd \n",
    "\n",
    "csv_m = pd.read_csv(\"BANK_TWN_ALL_AG_M.CSV\")    #男生\n",
    "csv_f = pd.read_csv(\"BANK_TWN_ALL_AG_F.CSV\")    #女生\n",
    "csv_m.head(5)"
   ]
  },
  {
   "cell_type": "code",
   "execution_count": 2,
   "metadata": {},
   "outputs": [],
   "source": [
    "#得到有幾筆資料\n",
    "def getCount(c):\n",
    "    count=0;\n",
    "    for i in range(len(c)):\n",
    "        if(c[\"地區\"][i]=='台灣'): count+=1\n",
    "    return count\n",
    "\n",
    "csv_m_count = getCount(csv_m)\n",
    "csv_f_count = getCount(csv_f)\n",
    "\n",
    "def getAvg(data1,data2):\n",
    "    return data2/data1\n",
    "\n",
    "list_name=[]\n",
    "\n",
    "#把所有col名子存入list\n",
    "for name in csv_m:      \n",
    "    list_name.append(name)\n",
    "\n",
    "col_count = len(list_name)\n",
    "total_m_money=[]\n",
    "total_f_money=[]\n",
    "#算出那年總花費\n",
    "for i in range(0,csv_m_count):          \n",
    "    total=0\n",
    "    for j in range(4,col_count-2,2):\n",
    "        #print(csv_m[list_name[j+2]][i])\n",
    "        total += int(csv_m[list_name[j]][i])\n",
    "    total_m_money.append(total)\n",
    "    \n",
    "for i in range(0,csv_f_count):          \n",
    "    total=0\n",
    "    for j in range(4,col_count-2,2):\n",
    "        #print(csv_m[list_name[j+2]][i])\n",
    "        total += int(csv_f[list_name[j]][i])\n",
    "    total_f_money.append(total)\n",
    "    \n",
    "#print(total_m_money)\n",
    "#print(total_f_money)\n",
    "\n",
    "#算出那年刷卡數\n",
    "total_m_money_count=[]\n",
    "total_f_money_count=[]\n",
    "\n",
    "for i in range(0,csv_m_count):          \n",
    "    total=0\n",
    "    for j in range(3,col_count-2,2):\n",
    "        #print(csv_m[list_name[j+2]][i])\n",
    "        total += int(csv_m[list_name[j]][i])\n",
    "    total_m_money_count.append(total)\n",
    "\n",
    "for i in range(0,csv_f_count):          \n",
    "    total=0\n",
    "    for j in range(3,col_count-2,2):\n",
    "        #print(csv_m[list_name[j+2]][i])\n",
    "        total += int(csv_f[list_name[j]][i])\n",
    "    total_f_money_count.append(total)\n",
    "\n",
    "total_m_avg=[]\n",
    "total_f_avg=[]\n",
    "    \n",
    "for i in range(csv_f_count):\n",
    "    total_f_avg.append(total_f_money[i]/total_f_money_count[i])\n",
    "    \n",
    "for i in range(csv_m_count):\n",
    "    total_m_avg.append(total_m_money[i]/total_m_money_count[i])\n",
    "    \n",
    "#print(total_f_avg)\n",
    "#print(total_m_avg)\n"
   ]
  },
  {
   "cell_type": "code",
   "execution_count": 12,
   "metadata": {},
   "outputs": [
    {
     "name": "stderr",
     "output_type": "stream",
     "text": [
      "C:\\Users\\Momentary\\Anaconda3\\lib\\site-packages\\matplotlib\\font_manager.py:1316: UserWarning: findfont: Font family ['sans-serif'] not found. Falling back to DejaVu Sans\n",
      "  (prop.get_family(), self.defaultFamily[fontext]))\n"
     ]
    },
    {
     "data": {
      "image/png": "[encoded data removed]",
      "text/plain": [
       "<matplotlib.figure.Figure at 0x22bd4ebfb70>"
      ]
     },
     "metadata": {},
     "output_type": "display_data"
    }
   ],
   "source": [
    "\n",
    "import matplotlib.pyplot as plt \n",
    "'''\n",
    "plt.bar(range(len(total_f_avg)),total_f_avg , fc='r') \n",
    "plt.title('女生')\n",
    "plt.show()\n",
    "\n",
    "plt.bar(range(len(total_m_avg)),total_m_avg , fc='g') \n",
    "plt.title('男生')\n",
    "plt.show()\n",
    "'''\n",
    "plt.title(\"Total\")\n",
    "plt.bar(range(len(total_f_avg)),total_f_avg , fc='r') \n",
    "plt.bar(range(len(total_m_avg)),total_m_avg , fc='g') \n",
    "plt.show()"
   ]
  },
  {
   "cell_type": "markdown",
   "metadata": {},
   "source": [
    "# 顯示圖形\n"
   ]
  },
  {
   "cell_type": "code",
   "execution_count": 5,
   "metadata": {},
   "outputs": [
    {
     "name": "stdout",
     "output_type": "stream",
     "text": [
      "\n"
     ]
    },
    {
     "name": "stderr",
     "output_type": "stream",
     "text": [
      "C:\\Users\\Momentary\\Anaconda3\\lib\\site-packages\\matplotlib\\font_manager.py:1316: UserWarning: findfont: Font family ['sans-serif'] not found. Falling back to DejaVu Sans\n",
      "  (prop.get_family(), self.defaultFamily[fontext]))\n"
     ]
    },
    {
     "data": {
      "image/png": "[encoded data removed]",
      "text/plain": [
       "<matplotlib.figure.Figure at 0x22bd3b0de80>"
      ]
     },
     "metadata": {},
     "output_type": "display_data"
    }
   ],
   "source": [
    "import re\n",
    "\n",
    "getTitle = {\"食\":\"Food\",\"衣\":\"Cloth\",\"旅館\":\"Accommodation\",\"交通\":\"Transportation fee\",\"文教\":\"Edu\",\"百貨\":\"Department store\",\"其他\":\"other\"}\n",
    "\n",
    "        \n",
    "def findAvgItem(pattern):\n",
    "    pattern=r''+pattern\n",
    "    total_m_cost=[]\n",
    "    total_f_cost=[]\n",
    "    #result = re.search(pattern, string)\n",
    "    #找出Item名稱\n",
    "    name = []\n",
    "    for str in list_name:\n",
    "        if re.search(pattern, str):\n",
    "            name.append(str)\n",
    "    #print(name)\n",
    "    #男生Item花費\n",
    "    for i in range(csv_m_count):\n",
    "        total=0\n",
    "        for j in range(0,len(name),2):\n",
    "            total += csv_m[name[j+1]][i]/csv_m[name[j]][i]\n",
    "        total_m_cost.append(total/len(name)*2)\n",
    "   \n",
    "    #print(total_m_cost)\n",
    "    \n",
    "    print()\n",
    "    #女生Item花費\n",
    "    for i in range(csv_f_count):\n",
    "        total=0\n",
    "        for j in range(0,len(name),2):\n",
    "            total += csv_f[name[j+1]][i]/csv_f[name[j]][i]\n",
    "        total_f_cost.append(total/len(name)*2)\n",
    "    #print(total_f_cost)\n",
    "    #print(csv_f[name[1]][0],csv_f[name[0]][0])\n",
    "    \n",
    "    plt.title(getTitle[pattern])\n",
    "    plt.bar(range(len(total_f_cost )),total_f_cost , fc='r') \n",
    "    plt.bar(range(len(total_m_cost)),total_m_cost , fc='g') \n",
    "    plt.show()\n",
    "    return total_m_cost,total_f_cost\n",
    "\n",
    "key_word = [\"食\",\"衣\",\"旅館\",\"交通\",\"文教\",\"百貨\",\"其他\"]\n",
    "\n",
    "total_m_food_cost,total_f_food_cost=findAvgItem(key_word[0])    #少"
   ]
  },
  {
   "cell_type": "code",
   "execution_count": 6,
   "metadata": {},
   "outputs": [
    {
     "name": "stdout",
     "output_type": "stream",
     "text": [
      "\n"
     ]
    },
    {
     "name": "stderr",
     "output_type": "stream",
     "text": [
      "C:\\Users\\Momentary\\Anaconda3\\lib\\site-packages\\matplotlib\\font_manager.py:1316: UserWarning: findfont: Font family ['sans-serif'] not found. Falling back to DejaVu Sans\n",
      "  (prop.get_family(), self.defaultFamily[fontext]))\n"
     ]
    },
    {
     "data": {
      "image/png": "[encoded data removed]",
      "text/plain": [
       "<matplotlib.figure.Figure at 0x22bd3a0dc18>"
      ]
     },
     "metadata": {},
     "output_type": "display_data"
    }
   ],
   "source": [
    "total_m_cloth_cost,total_f_cloth_cost=findAvgItem(key_word[1])    #多"
   ]
  },
  {
   "cell_type": "code",
   "execution_count": 7,
   "metadata": {
    "scrolled": true
   },
   "outputs": [
    {
     "name": "stdout",
     "output_type": "stream",
     "text": [
      "\n"
     ]
    },
    {
     "name": "stderr",
     "output_type": "stream",
     "text": [
      "C:\\Users\\Momentary\\Anaconda3\\lib\\site-packages\\matplotlib\\font_manager.py:1316: UserWarning: findfont: Font family ['sans-serif'] not found. Falling back to DejaVu Sans\n",
      "  (prop.get_family(), self.defaultFamily[fontext]))\n"
     ]
    },
    {
     "data": {
      "image/png": "[encoded data removed]",
      "text/plain": [
       "<matplotlib.figure.Figure at 0x22bd3caa9b0>"
      ]
     },
     "metadata": {},
     "output_type": "display_data"
    }
   ],
   "source": [
    "total_m_accommodation_cost,total_f_accommodation_cost=findAvgItem(key_word[2])  #多"
   ]
  },
  {
   "cell_type": "code",
   "execution_count": 8,
   "metadata": {},
   "outputs": [
    {
     "name": "stdout",
     "output_type": "stream",
     "text": [
      "\n"
     ]
    },
    {
     "name": "stderr",
     "output_type": "stream",
     "text": [
      "C:\\Users\\Momentary\\Anaconda3\\lib\\site-packages\\matplotlib\\font_manager.py:1316: UserWarning: findfont: Font family ['sans-serif'] not found. Falling back to DejaVu Sans\n",
      "  (prop.get_family(), self.defaultFamily[fontext]))\n"
     ]
    },
    {
     "data": {
      "image/png": "[encoded data removed]",
      "text/plain": [
       "<matplotlib.figure.Figure at 0x22bd0885978>"
      ]
     },
     "metadata": {},
     "output_type": "display_data"
    }
   ],
   "source": [
    "total_m_transportationFee_cost,total_f_transportationTee_cost=findAvgItem(key_word[3])  #少"
   ]
  },
  {
   "cell_type": "code",
   "execution_count": 9,
   "metadata": {
    "scrolled": true
   },
   "outputs": [
    {
     "name": "stdout",
     "output_type": "stream",
     "text": [
      "\n"
     ]
    },
    {
     "name": "stderr",
     "output_type": "stream",
     "text": [
      "C:\\Users\\Momentary\\Anaconda3\\lib\\site-packages\\matplotlib\\font_manager.py:1316: UserWarning: findfont: Font family ['sans-serif'] not found. Falling back to DejaVu Sans\n",
      "  (prop.get_family(), self.defaultFamily[fontext]))\n"
     ]
    },
    {
     "data": {
      "image/png": "[encoded data removed]",
      "text/plain": [
       "<matplotlib.figure.Figure at 0x22bd4f0d630>"
      ]
     },
     "metadata": {},
     "output_type": "display_data"
    }
   ],
   "source": [
    "total_m_edu_cost,total_f_edu_cost=findAvgItem(key_word[4])  #多"
   ]
  },
  {
   "cell_type": "code",
   "execution_count": 10,
   "metadata": {},
   "outputs": [
    {
     "name": "stdout",
     "output_type": "stream",
     "text": [
      "\n"
     ]
    },
    {
     "name": "stderr",
     "output_type": "stream",
     "text": [
      "C:\\Users\\Momentary\\Anaconda3\\lib\\site-packages\\matplotlib\\font_manager.py:1316: UserWarning: findfont: Font family ['sans-serif'] not found. Falling back to DejaVu Sans\n",
      "  (prop.get_family(), self.defaultFamily[fontext]))\n"
     ]
    },
    {
     "data": {
      "image/png": "[encoded data removed]",
      "text/plain": [
       "<matplotlib.figure.Figure at 0x22bd4f2c550>"
      ]
     },
     "metadata": {},
     "output_type": "display_data"
    }
   ],
   "source": [
    "total_m_departmentStore_cost,total_f_departmentStore_cost=findAvgItem(key_word[5])  #多"
   ]
  },
  {
   "cell_type": "code",
   "execution_count": 11,
   "metadata": {},
   "outputs": [
    {
     "name": "stdout",
     "output_type": "stream",
     "text": [
      "\n"
     ]
    },
    {
     "name": "stderr",
     "output_type": "stream",
     "text": [
      "C:\\Users\\Momentary\\Anaconda3\\lib\\site-packages\\matplotlib\\font_manager.py:1316: UserWarning: findfont: Font family ['sans-serif'] not found. Falling back to DejaVu Sans\n",
      "  (prop.get_family(), self.defaultFamily[fontext]))\n"
     ]
    },
    {
     "data": {
      "image/png": "[encoded data removed]",
      "text/plain": [
       "<matplotlib.figure.Figure at 0x22bcf4f14e0>"
      ]
     },
     "metadata": {},
     "output_type": "display_data"
    }
   ],
   "source": [
    "total_m_other_cost,total_f_other_cost=findAvgItem(key_word[6])  #多"
   ]
  },
  {
   "cell_type": "code",
   "execution_count": 3,
   "metadata": {},
   "outputs": [
    {
     "name": "stderr",
     "output_type": "stream",
     "text": [
      "C:\\Users\\Momentary\\Anaconda3\\lib\\site-packages\\matplotlib\\font_manager.py:1316: UserWarning: findfont: Font family ['sans-serif'] not found. Falling back to DejaVu Sans\n",
      "  (prop.get_family(), self.defaultFamily[fontext]))\n"
     ]
    },
    {
     "data": {
      "image/png": "[encoded data removed]",
      "text/plain": [
       "<matplotlib.figure.Figure at 0x22bd2e82b00>"
      ]
     },
     "metadata": {},
     "output_type": "display_data"
    }
   ],
   "source": []
  },
  {
   "cell_type": "code",
   "execution_count": 14,
   "metadata": {},
   "outputs": [
    {
     "name": "stdout",
     "output_type": "stream",
     "text": [
      "[1183.0555101319553, 3179.1696465071877, 4934.2737235453078, 1039.7525196628585, 6727.4864021514022, 2995.9583606300075, 4965.0589913173471]\n"
     ]
    },
    {
     "name": "stderr",
     "output_type": "stream",
     "text": [
      "C:\\Users\\Momentary\\Anaconda3\\lib\\site-packages\\matplotlib\\font_manager.py:1316: UserWarning: findfont: Font family ['sans-serif'] not found. Falling back to DejaVu Sans\n",
      "  (prop.get_family(), self.defaultFamily[fontext]))\n"
     ]
    },
    {
     "data": {
      "image/png": "[encoded data removed]",
      "text/plain": [
       "<matplotlib.figure.Figure at 0x22bce262320>"
      ]
     },
     "metadata": {},
     "output_type": "display_data"
    }
   ],
   "source": [
    "def getAvg(l):\n",
    "    return sum(l)/len(l)\n",
    "\n",
    "total_m_credit_card_cost = [getAvg(total_m_food_cost),  #個別花費的平均\n",
    "                            getAvg(total_m_cloth_cost),\n",
    "                            getAvg(total_m_accommodation_cost),\n",
    "                            getAvg(total_m_transportationFee_cost),\n",
    "                            getAvg(total_m_edu_cost),\n",
    "                            getAvg(total_m_departmentStore_cost),\n",
    "                            getAvg(total_m_other_cost)]     \n",
    "total_f_credit_card_cost =  [getAvg(total_f_food_cost),  #個別花費的平均\n",
    "                            getAvg(total_f_cloth_cost),\n",
    "                            getAvg(total_f_accommodation_cost),\n",
    "                            getAvg(total_f_transportationTee_cost),\n",
    "                            getAvg(total_f_edu_cost),\n",
    "                            getAvg(total_f_departmentStore_cost),\n",
    "                            getAvg(total_f_other_cost)]      \n",
    "\n",
    "\n",
    "print(total_f_credit_card_cost)\n",
    "total_m_card_cost_percent=[]\n",
    "total_f_card_cost_percent=[]\n",
    "for m in total_m_credit_card_cost:\n",
    "    total_m_card_cost_percent.append(m/sum(total_m_credit_card_cost))\n",
    "\n",
    "for f in total_f_credit_card_cost:\n",
    "    total_m_card_cost_percent.append(f/sum(total_m_credit_card_cost))\n",
    "graph_name=[]\n",
    "\n",
    "for i in key_word:    \n",
    "    graph_name.append(getTitle[i])\n",
    "\n",
    "plt.figure(figsize=(6,9)) #调节图形大小\n",
    "labels = graph_name\n",
    "sizes = total_m_credit_card_cost\n",
    "colors = ['red','yellowgreen','lightskyblue','yellow','blue','lightblue','green'] #每块颜色定义\n",
    "explode = (0,0,0,0,0,0,0) #将某一块分割出来，值越大分割出的间隙越大\n",
    "patches,text1,text2 = plt.pie(sizes,\n",
    "                      explode=explode,\n",
    "                      labels=labels,\n",
    "                      colors=colors,\n",
    "                      autopct = '%3.2f%%', #数值保留固定小数位\n",
    "                      shadow = False, #无阴影设置\n",
    "                      startangle =90, #逆时针起始角度设置\n",
    "                      pctdistance = 0.6) #数值距圆心半径倍数距离\n",
    "#patches饼图的返回值，texts1饼图外label的文本，texts2饼图内部的文本\n",
    "# x，y轴刻度设置一致，保证饼图为圆形\n",
    "\n",
    "plt.axis('equal')\n",
    "plt.show()\n"
   ]
  },
  {
   "cell_type": "code",
   "execution_count": null,
   "metadata": {},
   "outputs": [],
   "source": [
    "\n"
   ]
  }
 ],
 "metadata": {
  "kernelspec": {
   "display_name": "Python 3",
   "language": "python",
   "name": "python3"
  },
  "language_info": {
   "codemirror_mode": {
    "name": "ipython",
    "version": 3
   },
   "file_extension": ".py",
   "mimetype": "text/x-python",
   "name": "python",
   "nbconvert_exporter": "python",
   "pygments_lexer": "ipython3",
   "version": "3.6.3"
  }
 },
 "nbformat": 4,
 "nbformat_minor": 2
}
